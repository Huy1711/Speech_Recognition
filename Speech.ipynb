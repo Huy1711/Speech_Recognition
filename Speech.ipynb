{
 "cells": [
  {
   "cell_type": "code",
   "execution_count": 1,
   "metadata": {
    "id": "amng8WgN9T4h"
   },
   "outputs": [
    {
     "name": "stderr",
     "output_type": "stream",
     "text": [
      "E:\\Anaconda\\envs\\TestPytorch\\lib\\site-packages\\pydub\\utils.py:170: RuntimeWarning: Couldn't find ffmpeg or avconv - defaulting to ffmpeg, but may not work\n",
      "  warn(\"Couldn't find ffmpeg or avconv - defaulting to ffmpeg, but may not work\", RuntimeWarning)\n"
     ]
    }
   ],
   "source": [
    "import librosa\n",
    "import librosa.display\n",
    "import numpy as np\n",
    "import matplotlib.pyplot as plt\n",
    "import IPython.display as idsp\n",
    "import pydub\n",
    "import pandas as pd\n",
    "import seaborn as sns\n",
    "import os"
   ]
  },
  {
   "cell_type": "code",
   "execution_count": 2,
   "metadata": {
    "id": "_017gXsyTtDi"
   },
   "outputs": [],
   "source": [
    "train_folder = \"./content/sample_data/train\"\n",
    "split_train_folder = \"./content/sample_data/split_train\"\n",
    "test_folder = \"./content/sample_data/test\"\n",
    "split_test_folder = \"./content/sample_data/split_test\"\n",
    "mfccs_folder = \"./content/sample_data/mfccs\""
   ]
  },
  {
   "cell_type": "markdown",
   "metadata": {
    "id": "Qgwomky48Jua"
   },
   "source": [
    "## Split audio files"
   ]
  },
  {
   "cell_type": "code",
   "execution_count": 3,
   "metadata": {
    "id": "A1BOeB013KzJ"
   },
   "outputs": [],
   "source": [
    "class SoundSegment:\n",
    "    def __init__(self, start: float, end: float, label: str):\n",
    "        self.start = start\n",
    "        self.end = end\n",
    "        self.label = label\n",
    "\n",
    "    def __str__(self):\n",
    "        return \"({} - {}: {})\".format(self.start, self.end, self.label)\n",
    "\n",
    "    def __repr__(self):\n",
    "        return self.__str__()"
   ]
  },
  {
   "cell_type": "code",
   "execution_count": 4,
   "metadata": {
    "id": "y_gGlNxf3pvd"
   },
   "outputs": [],
   "source": [
    "def split_to_folder(in_folder, out_folder):\n",
    "    files = os.listdir(in_folder)\n",
    "    file_names = [file[:-4] for file in files]\n",
    "    for file in file_names:\n",
    "        # read labels for that file\n",
    "        labels = []\n",
    "        with open(f\"{in_folder}/{file}.txt\", \"r\") as f:\n",
    "            for line in f:\n",
    "                if line.strip() == \"\":\n",
    "                    continue\n",
    "                start, stop, label = line.split(\"\\t\")\n",
    "                labels.append(SoundSegment(float(start), float(stop), label.strip()))\n",
    "\n",
    "        # chop each label into its own wav\n",
    "        for order, label in enumerate(labels):\n",
    "            audio = pydub.AudioSegment.from_wav(f\"{in_folder}/{file}.wav\")\n",
    "            audio = audio[int(label.start * 1000) : int(label.end * 1000)]\n",
    "            audio.export(\n",
    "                f\"{out_folder}/{label.label}_{file}_{order+1}.wav\", format=\"wav\"\n",
    "            )"
   ]
  },
  {
   "cell_type": "code",
   "execution_count": 5,
   "metadata": {
    "id": "CEFOLI-DsGz0"
   },
   "outputs": [],
   "source": [
    "split_to_folder(train_folder, split_train_folder)\n",
    "split_to_folder(test_folder, split_test_folder)"
   ]
  },
  {
   "cell_type": "markdown",
   "metadata": {
    "id": "21ejjy3G8HC9"
   },
   "source": [
    "## MFCC "
   ]
  },
  {
   "cell_type": "code",
   "execution_count": 6,
   "metadata": {
    "id": "WriDqjTx8EQ-"
   },
   "outputs": [],
   "source": [
    "sr = 22050\n",
    "\n",
    "def mfccs_extract(sound, sr):\n",
    "    mfcc = librosa.feature.mfcc(y=sound, n_mfcc=13, sr=sr)\n",
    "    for i in range(mfcc.shape[1]):\n",
    "        mfcc[:,i] = mfcc[:,i] - np.min(mfcc[:,i])\n",
    "        mfcc[:,i] = mfcc[:,i]/(np.max(mfcc[:,i]) - np.min(mfcc[:,i]))\n",
    "    delta_mfcc = librosa.feature.delta(mfcc)\n",
    "    delta2_mfcc = librosa.feature.delta(mfcc, order=2)\n",
    "    mfccs = np.concatenate((mfcc, delta_mfcc, delta2_mfcc))\n",
    "    return mfccs"
   ]
  },
  {
   "cell_type": "code",
   "execution_count": 7,
   "metadata": {
    "id": "t5GflJ9S8FDZ"
   },
   "outputs": [],
   "source": [
    "files = os.listdir(split_train_folder)\n",
    "file_names = [file[:-4] for file in files]\n",
    "\n",
    "for file in file_names:\n",
    "    sound, sr = librosa.load(f\"{split_train_folder}/{file}.wav\")\n",
    "    mfccs = mfccs_extract(sound, sr)\n",
    "    np.savetxt(f\"{mfccs_folder}/{file}.txt\", mfccs, delimiter=\",\")"
   ]
  },
  {
   "cell_type": "code",
   "execution_count": 8,
   "metadata": {
    "id": "lDxb4zppK9C4"
   },
   "outputs": [],
   "source": [
    "A_files = list(filter(lambda k: 'A' in k, file_names))\n",
    "B_files = list(filter(lambda k: 'B' in k, file_names))\n",
    "len_files = list(filter(lambda k: 'len' in k, file_names))\n",
    "xuong_files = list(filter(lambda k: 'xuong' in k, file_names))\n",
    "trai_files = list(filter(lambda k: 'trai' in k, file_names))\n",
    "phai_files = list(filter(lambda k: 'phai' in k, file_names))\n",
    "ban_files = list(filter(lambda k: 'ban' in k, file_names))\n",
    "nhay_files = list(filter(lambda k: 'nhay' in k, file_names))\n",
    "sil_files = list(filter(lambda k: 'sil' in k, file_names))"
   ]
  },
  {
   "cell_type": "code",
   "execution_count": 9,
   "metadata": {
    "id": "EcfFEXHvAfJj"
   },
   "outputs": [],
   "source": [
    "def load_mfccs(label_files):\n",
    "    mfccs = []\n",
    "    for file in label_files:\n",
    "        txt = np.loadtxt(f\"{mfccs_folder}/{file}.txt\", delimiter=\",\")\n",
    "        mfccs.append(txt)\n",
    "    return mfccs"
   ]
  },
  {
   "cell_type": "code",
   "execution_count": 10,
   "metadata": {
    "id": "GkL5DQKuT-YL"
   },
   "outputs": [],
   "source": [
    "A_mfccs = load_mfccs(A_files)\n",
    "B_mfccs = load_mfccs(B_files)\n",
    "len_mfccs = load_mfccs(len_files)\n",
    "xuong_mfccs = load_mfccs(xuong_files)\n",
    "trai_mfccs = load_mfccs(trai_files)\n",
    "phai_mfccs = load_mfccs(phai_files)\n",
    "ban_mfccs = load_mfccs(ban_files)\n",
    "nhay_mfccs = load_mfccs(nhay_files)\n",
    "sil_mfccs = load_mfccs(sil_files)"
   ]
  },
  {
   "cell_type": "markdown",
   "metadata": {
    "id": "3nbDUag-TKa4"
   },
   "source": [
    "## DTW"
   ]
  },
  {
   "cell_type": "code",
   "execution_count": 11,
   "metadata": {
    "id": "nkOp7k5O6MTL"
   },
   "outputs": [],
   "source": [
    "def dtw_cost(mfcc1, mfcc2):\n",
    "    D, wp = librosa.sequence.dtw(mfcc1, mfcc2, subseq = True, metric='euclidean')\n",
    "    return D[-1, -1]/wp.shape[0]"
   ]
  },
  {
   "cell_type": "code",
   "execution_count": 12,
   "metadata": {
    "id": "4iEFodx-XdbJ"
   },
   "outputs": [],
   "source": [
    "def align_mfccs(label_mfccs):\n",
    "    template_mfcc = label_mfccs[0]\n",
    "    other_templates = label_mfccs[1:]\n",
    "    frame_num = template_mfcc.shape[1]\n",
    "    frame_lst = []\n",
    "    for i in range(frame_num):\n",
    "        frame = [template_mfcc[:, i]]\n",
    "        frame_lst.append(frame)\n",
    "\n",
    "    for mfcc in other_templates:\n",
    "        D, wp = librosa.sequence.dtw(template_mfcc, mfcc, subseq = True, metric='euclidean')\n",
    "        for i in wp:\n",
    "            frame_lst[i[0]].append(mfcc[:,i[1]])\n",
    "    return frame_lst"
   ]
  },
  {
   "cell_type": "code",
   "execution_count": 13,
   "metadata": {
    "id": "ftfC1wwMJVHe"
   },
   "outputs": [],
   "source": [
    "def average_templates(label_mfccs):\n",
    "    frame_lst = align_mfccs(label_mfccs)\n",
    "    frame_num = len(frame_lst)\n",
    "    average_mfcc = np.zeros(shape=(frame_num, 39))\n",
    "    for i in range(frame_num):\n",
    "        frame_average = np.array(frame_lst[i]).mean(axis=0)\n",
    "        average_mfcc[i] = frame_average\n",
    "    return average_mfcc.transpose()"
   ]
  },
  {
   "cell_type": "code",
   "execution_count": 14,
   "metadata": {
    "id": "zERTvp0TLa2Y"
   },
   "outputs": [],
   "source": [
    "A_template = average_templates(A_mfccs)\n",
    "B_template = average_templates(B_mfccs)\n",
    "len_template = average_templates(len_mfccs)\n",
    "xuong_template = average_templates(xuong_mfccs)\n",
    "trai_template = average_templates(trai_mfccs)\n",
    "phai_template = average_templates(phai_mfccs)\n",
    "nhay_template = average_templates(nhay_mfccs)\n",
    "ban_template = average_templates(ban_mfccs)\n",
    "sil_template = average_templates(sil_mfccs)"
   ]
  },
  {
   "cell_type": "code",
   "execution_count": 15,
   "metadata": {
    "id": "ZeMSLG6m4X0h"
   },
   "outputs": [],
   "source": [
    "dict1 = {\n",
    "  0: \"A\",\n",
    "  1: \"B\",\n",
    "  2: \"len\",\n",
    "  3: \"xuong\",\n",
    "  4: \"trai\",\n",
    "  5: \"phai\",\n",
    "  6: \"ban\",\n",
    "  7: \"nhay\",\n",
    "  8: \"sil\"\n",
    "}"
   ]
  },
  {
   "cell_type": "code",
   "execution_count": 16,
   "metadata": {
    "id": "QrAAg5M_DRF5"
   },
   "outputs": [],
   "source": [
    "files = os.listdir(split_test_folder)\n",
    "test_files = [file[:-4] for file in files]\n",
    "        \n",
    "test_mfccs = []\n",
    "for file in test_files:\n",
    "    sound, sr = librosa.load(f\"{split_test_folder}/{file}.wav\")\n",
    "    mfccs = mfccs_extract(sound, sr)\n",
    "    test_mfccs.append(mfccs)"
   ]
  },
  {
   "cell_type": "code",
   "execution_count": 17,
   "metadata": {
    "colab": {
     "base_uri": "https://localhost:8080/"
    },
    "id": "-RH_N8Ol_rOO",
    "outputId": "ddfd465b-baf8-41ce-fded-c12d907778fe"
   },
   "outputs": [
    {
     "name": "stdout",
     "output_type": "stream",
     "text": [
      "result = \"phai\"\n",
      "label = \"A\"\n",
      "Correct =  False\n"
     ]
    },
    {
     "data": {
      "text/html": [
       "<div>\n",
       "<style scoped>\n",
       "    .dataframe tbody tr th:only-of-type {\n",
       "        vertical-align: middle;\n",
       "    }\n",
       "\n",
       "    .dataframe tbody tr th {\n",
       "        vertical-align: top;\n",
       "    }\n",
       "\n",
       "    .dataframe thead th {\n",
       "        text-align: right;\n",
       "    }\n",
       "</style>\n",
       "<table border=\"1\" class=\"dataframe\">\n",
       "  <thead>\n",
       "    <tr style=\"text-align: right;\">\n",
       "      <th></th>\n",
       "      <th>Label</th>\n",
       "      <th>Cost</th>\n",
       "    </tr>\n",
       "  </thead>\n",
       "  <tbody>\n",
       "    <tr>\n",
       "      <th>0</th>\n",
       "      <td>A</td>\n",
       "      <td>0.340432</td>\n",
       "    </tr>\n",
       "    <tr>\n",
       "      <th>1</th>\n",
       "      <td>B</td>\n",
       "      <td>0.336806</td>\n",
       "    </tr>\n",
       "    <tr>\n",
       "      <th>2</th>\n",
       "      <td>len</td>\n",
       "      <td>0.370747</td>\n",
       "    </tr>\n",
       "    <tr>\n",
       "      <th>3</th>\n",
       "      <td>xuong</td>\n",
       "      <td>0.502169</td>\n",
       "    </tr>\n",
       "    <tr>\n",
       "      <th>4</th>\n",
       "      <td>trai</td>\n",
       "      <td>0.277025</td>\n",
       "    </tr>\n",
       "    <tr>\n",
       "      <th>5</th>\n",
       "      <td>phai</td>\n",
       "      <td>0.267707</td>\n",
       "    </tr>\n",
       "    <tr>\n",
       "      <th>6</th>\n",
       "      <td>ban</td>\n",
       "      <td>0.323726</td>\n",
       "    </tr>\n",
       "    <tr>\n",
       "      <th>7</th>\n",
       "      <td>nhay</td>\n",
       "      <td>0.329893</td>\n",
       "    </tr>\n",
       "    <tr>\n",
       "      <th>8</th>\n",
       "      <td>sil</td>\n",
       "      <td>0.556278</td>\n",
       "    </tr>\n",
       "  </tbody>\n",
       "</table>\n",
       "</div>"
      ],
      "text/plain": [
       "   Label      Cost\n",
       "0      A  0.340432\n",
       "1      B  0.336806\n",
       "2    len  0.370747\n",
       "3  xuong  0.502169\n",
       "4   trai  0.277025\n",
       "5   phai  0.267707\n",
       "6    ban  0.323726\n",
       "7   nhay  0.329893\n",
       "8    sil  0.556278"
      ]
     },
     "execution_count": 17,
     "metadata": {},
     "output_type": "execute_result"
    }
   ],
   "source": [
    "test_num = 6\n",
    "sound_test = test_mfccs[test_num]\n",
    "\n",
    "def costs_compute(sound):\n",
    "    A_cost = dtw_cost(A_template, sound)\n",
    "    B_cost = dtw_cost(B_template, sound)\n",
    "    len_cost = dtw_cost(len_template, sound)\n",
    "    xuong_cost = dtw_cost(xuong_template, sound)\n",
    "    trai_cost = dtw_cost(trai_template, sound)\n",
    "    phai_cost = dtw_cost(phai_template, sound)\n",
    "    ban_cost = dtw_cost(ban_template, sound)\n",
    "    nhay_cost = dtw_cost(nhay_template, sound)\n",
    "    sil_cost = dtw_cost(sil_template, sound)\n",
    "    return [A_cost, B_cost, len_cost, xuong_cost, trai_cost, phai_cost, ban_cost, nhay_cost, sil_cost]\n",
    "\n",
    "costs = costs_compute(sound_test)\n",
    "result = dict1.get(np.array(costs).argmin())\n",
    "print('result = \\\"{}\\\"'.format(result))\n",
    "print('label = \\\"{}\\\"'.format(test_files[test_num].split('_')[0]))\n",
    "print(\"Correct =  {}\".format(result == test_files[test_num].split('_')[0]))\n",
    "\n",
    "df = pd.DataFrame()\n",
    "df['Label'] = dict1.values()\n",
    "df['Cost'] = costs\n",
    "df"
   ]
  },
  {
   "cell_type": "code",
   "execution_count": 18,
   "metadata": {
    "colab": {
     "base_uri": "https://localhost:8080/"
    },
    "id": "qtbgI6QEhXfX",
    "outputId": "85db2391-5663-4bc9-bc16-1d05eb01566c"
   },
   "outputs": [
    {
     "name": "stdout",
     "output_type": "stream",
     "text": [
      "Accuracy Score: 0.5384615384615384\n"
     ]
    }
   ],
   "source": [
    "from sklearn.metrics import accuracy_score\n",
    "\n",
    "test_len = len(test_mfccs)\n",
    "y_true = []\n",
    "y_preds = []\n",
    "\n",
    "for i in range(test_len):\n",
    "    sound = test_mfccs[i]\n",
    "    costs = costs_compute(sound)\n",
    "    result = dict1.get(np.array(costs).argmin())\n",
    "    label = test_files[i].split('_')[0]\n",
    "    y_preds.append(result)\n",
    "    y_true.append(label)\n",
    "\n",
    "accuracy = accuracy_score(y_true, y_preds)\n",
    "print(\"Accuracy Score: {}\".format(accuracy))"
   ]
  },
  {
   "cell_type": "code",
   "execution_count": 19,
   "metadata": {
    "id": "Ck96tK17MpH0"
   },
   "outputs": [
    {
     "data": {
      "text/plain": [
       "<AxesSubplot:>"
      ]
     },
     "execution_count": 19,
     "metadata": {},
     "output_type": "execute_result"
    },
    {
     "data": {
      "image/png": "[encoded data removed]",
      "text/plain": [
       "<Figure size 720x504 with 2 Axes>"
      ]
     },
     "metadata": {
      "needs_background": "light"
     },
     "output_type": "display_data"
    }
   ],
   "source": [
    "from sklearn.metrics import confusion_matrix\n",
    "\n",
    "matrix = confusion_matrix(y_true, y_preds)\n",
    "matrix.diagonal()/matrix.sum(axis=1)\n",
    "\n",
    "df_cm = pd.DataFrame(matrix, index = dict1.values(),\n",
    "                  columns = dict1.values())\n",
    "plt.figure(figsize = (10,7))\n",
    "sns.heatmap(df_cm, annot=True)"
   ]
  },
  {
   "cell_type": "markdown",
   "metadata": {
    "id": "jfQmHKEDU-3m"
   },
   "source": [
    "## HMM"
   ]
  },
  {
   "cell_type": "code",
   "execution_count": 21,
   "metadata": {
    "id": "AQ-7NW7HcPNc"
   },
   "outputs": [],
   "source": [
    "from hmmlearn import hmm\n",
    "import librosa\n",
    "import numpy as np\n",
    "import pandas as pd\n",
    "from IPython import display\n",
    "from sklearn.metrics import classification_report\n",
    "from sklearn.model_selection import train_test_split\n",
    "import os"
   ]
  },
  {
   "cell_type": "code",
   "execution_count": 22,
   "metadata": {
    "id": "Pw5U3NXai22-"
   },
   "outputs": [],
   "source": [
    "def get_mfcc(y, sr):\n",
    "    mfcc = librosa.feature.mfcc(y=y, sr=sr, n_mfcc=13)\n",
    "    delta = librosa.feature.delta(mfcc)\n",
    "    delta2 = librosa.feature.delta(mfcc, order=2)\n",
    "    return np.vstack((mfcc, delta, delta2)).T"
   ]
  },
  {
   "cell_type": "code",
   "execution_count": 23,
   "metadata": {
    "id": "oReHHmmlagNk"
   },
   "outputs": [],
   "source": [
    "def buildDataSet(folder):\n",
    "    dataset = {}\n",
    "    files = os.listdir(folder)\n",
    "    file_names = [file[:-4] for file in files]\n",
    "    for file in file_names:\n",
    "        y, sr = librosa.load(f\"{folder}/{file}.wav\")\n",
    "        mfccs = get_mfcc(y, sr)\n",
    "        label = file.split('_')[0]\n",
    "        if label not in dataset.keys():\n",
    "            dataset[label] = []\n",
    "            dataset[label].append(mfccs)\n",
    "        else:\n",
    "            exist_feature = dataset[label]\n",
    "            exist_feature.append(mfccs)\n",
    "            dataset[label] = exist_feature\n",
    "    return dataset"
   ]
  },
  {
   "cell_type": "code",
   "execution_count": 24,
   "metadata": {
    "id": "hUKnvC_VfJqd"
   },
   "outputs": [],
   "source": [
    "def train_GMMHMM(dataset):\n",
    "    GMMHMM_Models = {}\n",
    "    states_num = 5\n",
    "    GMM_mix_num = 3\n",
    "    tmp_p = 1.0/(states_num-2)\n",
    "    transmatPrior = np.array([[tmp_p, tmp_p, tmp_p, 0 ,0], \\\n",
    "                               [0, tmp_p, tmp_p, tmp_p , 0], \\\n",
    "                               [0, 0, tmp_p, tmp_p, tmp_p], \\\n",
    "                               [0, 0, 0, 0.5, 0.5], \\\n",
    "                               [0, 0, 0, 0, 1]],dtype=np.float)\n",
    "\n",
    "    startprobPrior = np.array([0.5, 0.5, 0, 0, 0],dtype=np.float)\n",
    "\n",
    "    for label in dataset.keys():\n",
    "        model = hmm.GMMHMM(n_components=states_num, n_mix=GMM_mix_num, \\\n",
    "                           transmat_prior=transmatPrior, startprob_prior=startprobPrior, \\\n",
    "                           covariance_type='diag', n_iter=10)\n",
    "        trainData = dataset[label]\n",
    "        length = np.zeros([len(trainData), ], dtype=np.int)\n",
    "        for m in range(len(trainData)):\n",
    "            length[m] = trainData[m].shape[0]\n",
    "        trainData = np.vstack(trainData)\n",
    "        model.fit(trainData, lengths=length) \n",
    "        GMMHMM_Models[label] = model\n",
    "    return GMMHMM_Models"
   ]
  },
  {
   "cell_type": "code",
   "execution_count": 25,
   "metadata": {
    "id": "tHh7Ta5kfWup"
   },
   "outputs": [
    {
     "name": "stderr",
     "output_type": "stream",
     "text": [
      "C:\\Users\\LEN\\AppData\\Local\\Temp/ipykernel_14776/1066628820.py:10: DeprecationWarning: `np.float` is a deprecated alias for the builtin `float`. To silence this warning, use `float` by itself. Doing this will not modify any behavior and is safe. If you specifically wanted the numpy scalar type, use `np.float64` here.\n",
      "Deprecated in NumPy 1.20; for more details and guidance: https://numpy.org/devdocs/release/1.20.0-notes.html#deprecations\n",
      "  [0, 0, 0, 0, 1]],dtype=np.float)\n",
      "C:\\Users\\LEN\\AppData\\Local\\Temp/ipykernel_14776/1066628820.py:12: DeprecationWarning: `np.float` is a deprecated alias for the builtin `float`. To silence this warning, use `float` by itself. Doing this will not modify any behavior and is safe. If you specifically wanted the numpy scalar type, use `np.float64` here.\n",
      "Deprecated in NumPy 1.20; for more details and guidance: https://numpy.org/devdocs/release/1.20.0-notes.html#deprecations\n",
      "  startprobPrior = np.array([0.5, 0.5, 0, 0, 0],dtype=np.float)\n",
      "C:\\Users\\LEN\\AppData\\Local\\Temp/ipykernel_14776/1066628820.py:19: DeprecationWarning: `np.int` is a deprecated alias for the builtin `int`. To silence this warning, use `int` by itself. Doing this will not modify any behavior and is safe. When replacing `np.int`, you may wish to use e.g. `np.int64` or `np.int32` to specify the precision. If you wish to review your current use, check the release note link for additional information.\n",
      "Deprecated in NumPy 1.20; for more details and guidance: https://numpy.org/devdocs/release/1.20.0-notes.html#deprecations\n",
      "  length = np.zeros([len(trainData), ], dtype=np.int)\n",
      "C:\\Users\\LEN\\AppData\\Local\\Temp/ipykernel_14776/1066628820.py:19: DeprecationWarning: `np.int` is a deprecated alias for the builtin `int`. To silence this warning, use `int` by itself. Doing this will not modify any behavior and is safe. When replacing `np.int`, you may wish to use e.g. `np.int64` or `np.int32` to specify the precision. If you wish to review your current use, check the release note link for additional information.\n",
      "Deprecated in NumPy 1.20; for more details and guidance: https://numpy.org/devdocs/release/1.20.0-notes.html#deprecations\n",
      "  length = np.zeros([len(trainData), ], dtype=np.int)\n",
      "C:\\Users\\LEN\\AppData\\Local\\Temp/ipykernel_14776/1066628820.py:19: DeprecationWarning: `np.int` is a deprecated alias for the builtin `int`. To silence this warning, use `int` by itself. Doing this will not modify any behavior and is safe. When replacing `np.int`, you may wish to use e.g. `np.int64` or `np.int32` to specify the precision. If you wish to review your current use, check the release note link for additional information.\n",
      "Deprecated in NumPy 1.20; for more details and guidance: https://numpy.org/devdocs/release/1.20.0-notes.html#deprecations\n",
      "  length = np.zeros([len(trainData), ], dtype=np.int)\n",
      "C:\\Users\\LEN\\AppData\\Local\\Temp/ipykernel_14776/1066628820.py:19: DeprecationWarning: `np.int` is a deprecated alias for the builtin `int`. To silence this warning, use `int` by itself. Doing this will not modify any behavior and is safe. When replacing `np.int`, you may wish to use e.g. `np.int64` or `np.int32` to specify the precision. If you wish to review your current use, check the release note link for additional information.\n",
      "Deprecated in NumPy 1.20; for more details and guidance: https://numpy.org/devdocs/release/1.20.0-notes.html#deprecations\n",
      "  length = np.zeros([len(trainData), ], dtype=np.int)\n",
      "Fitting a model with 1196 free scalar parameters with only 702 data points will result in a degenerate solution.\n",
      "E:\\Anaconda\\envs\\TestPytorch\\lib\\site-packages\\hmmlearn\\hmm.py:986: RuntimeWarning: invalid value encountered in true_divide\n",
      "  self.weights_ = w_n / w_d\n",
      "E:\\Anaconda\\envs\\TestPytorch\\lib\\site-packages\\hmmlearn\\hmm.py:998: RuntimeWarning: invalid value encountered in true_divide\n",
      "  self.means_ = m_n / m_d[:, :, None]\n",
      "Some rows of transmat_ have zero sum because no transition from the state was ever observed.\n",
      "C:\\Users\\LEN\\AppData\\Local\\Temp/ipykernel_14776/1066628820.py:19: DeprecationWarning: `np.int` is a deprecated alias for the builtin `int`. To silence this warning, use `int` by itself. Doing this will not modify any behavior and is safe. When replacing `np.int`, you may wish to use e.g. `np.int64` or `np.int32` to specify the precision. If you wish to review your current use, check the release note link for additional information.\n",
      "Deprecated in NumPy 1.20; for more details and guidance: https://numpy.org/devdocs/release/1.20.0-notes.html#deprecations\n",
      "  length = np.zeros([len(trainData), ], dtype=np.int)\n",
      "C:\\Users\\LEN\\AppData\\Local\\Temp/ipykernel_14776/1066628820.py:19: DeprecationWarning: `np.int` is a deprecated alias for the builtin `int`. To silence this warning, use `int` by itself. Doing this will not modify any behavior and is safe. When replacing `np.int`, you may wish to use e.g. `np.int64` or `np.int32` to specify the precision. If you wish to review your current use, check the release note link for additional information.\n",
      "Deprecated in NumPy 1.20; for more details and guidance: https://numpy.org/devdocs/release/1.20.0-notes.html#deprecations\n",
      "  length = np.zeros([len(trainData), ], dtype=np.int)\n",
      "C:\\Users\\LEN\\AppData\\Local\\Temp/ipykernel_14776/1066628820.py:19: DeprecationWarning: `np.int` is a deprecated alias for the builtin `int`. To silence this warning, use `int` by itself. Doing this will not modify any behavior and is safe. When replacing `np.int`, you may wish to use e.g. `np.int64` or `np.int32` to specify the precision. If you wish to review your current use, check the release note link for additional information.\n",
      "Deprecated in NumPy 1.20; for more details and guidance: https://numpy.org/devdocs/release/1.20.0-notes.html#deprecations\n",
      "  length = np.zeros([len(trainData), ], dtype=np.int)\n",
      "C:\\Users\\LEN\\AppData\\Local\\Temp/ipykernel_14776/1066628820.py:19: DeprecationWarning: `np.int` is a deprecated alias for the builtin `int`. To silence this warning, use `int` by itself. Doing this will not modify any behavior and is safe. When replacing `np.int`, you may wish to use e.g. `np.int64` or `np.int32` to specify the precision. If you wish to review your current use, check the release note link for additional information.\n",
      "Deprecated in NumPy 1.20; for more details and guidance: https://numpy.org/devdocs/release/1.20.0-notes.html#deprecations\n",
      "  length = np.zeros([len(trainData), ], dtype=np.int)\n",
      "C:\\Users\\LEN\\AppData\\Local\\Temp/ipykernel_14776/1066628820.py:19: DeprecationWarning: `np.int` is a deprecated alias for the builtin `int`. To silence this warning, use `int` by itself. Doing this will not modify any behavior and is safe. When replacing `np.int`, you may wish to use e.g. `np.int64` or `np.int32` to specify the precision. If you wish to review your current use, check the release note link for additional information.\n",
      "Deprecated in NumPy 1.20; for more details and guidance: https://numpy.org/devdocs/release/1.20.0-notes.html#deprecations\n",
      "  length = np.zeros([len(trainData), ], dtype=np.int)\n",
      "C:\\Users\\LEN\\AppData\\Local\\Temp/ipykernel_14776/1066628820.py:19: DeprecationWarning: `np.int` is a deprecated alias for the builtin `int`. To silence this warning, use `int` by itself. Doing this will not modify any behavior and is safe. When replacing `np.int`, you may wish to use e.g. `np.int64` or `np.int32` to specify the precision. If you wish to review your current use, check the release note link for additional information.\n",
      "Deprecated in NumPy 1.20; for more details and guidance: https://numpy.org/devdocs/release/1.20.0-notes.html#deprecations\n",
      "  length = np.zeros([len(trainData), ], dtype=np.int)\n",
      "C:\\Users\\LEN\\AppData\\Local\\Temp/ipykernel_14776/1066628820.py:19: DeprecationWarning: `np.int` is a deprecated alias for the builtin `int`. To silence this warning, use `int` by itself. Doing this will not modify any behavior and is safe. When replacing `np.int`, you may wish to use e.g. `np.int64` or `np.int32` to specify the precision. If you wish to review your current use, check the release note link for additional information.\n",
      "Deprecated in NumPy 1.20; for more details and guidance: https://numpy.org/devdocs/release/1.20.0-notes.html#deprecations\n",
      "  length = np.zeros([len(trainData), ], dtype=np.int)\n",
      "Fitting a model with 1196 free scalar parameters with only 741 data points will result in a degenerate solution.\n"
     ]
    },
    {
     "name": "stderr",
     "output_type": "stream",
     "text": [
      "E:\\Anaconda\\envs\\TestPytorch\\lib\\site-packages\\hmmlearn\\utils.py:31: RuntimeWarning: invalid value encountered in true_divide\n",
      "  a /= a_sum\n"
     ]
    }
   ],
   "source": [
    "train_dataset = buildDataSet(split_train_folder)\n",
    "hmmModels = train_GMMHMM(train_dataset)"
   ]
  },
  {
   "cell_type": "code",
   "execution_count": 26,
   "metadata": {
    "id": "dcZ5eml2rjdm"
   },
   "outputs": [],
   "source": [
    "testDataSet = buildDataSet(split_test_folder)"
   ]
  },
  {
   "cell_type": "code",
   "execution_count": 27,
   "metadata": {
    "colab": {
     "base_uri": "https://localhost:8080/"
    },
    "id": "zznUy6se4xeV",
    "outputId": "4d69a839-fbcd-4574-a68a-ec33a05ecb5d"
   },
   "outputs": [
    {
     "data": {
      "text/plain": [
       "{0: 'A',\n",
       " 1: 'ban',\n",
       " 2: 'B',\n",
       " 3: 'len',\n",
       " 4: 'nhay',\n",
       " 5: 'phai',\n",
       " 6: 'sil',\n",
       " 7: 'trai',\n",
       " 8: 'xuong'}"
      ]
     },
     "execution_count": 27,
     "metadata": {},
     "output_type": "execute_result"
    }
   ],
   "source": [
    "dict2 = {}\n",
    "for i, k in enumerate(testDataSet.keys()):\n",
    "    dict2[i] = k\n",
    "dict2"
   ]
  },
  {
   "cell_type": "code",
   "execution_count": 28,
   "metadata": {
    "colab": {
     "base_uri": "https://localhost:8080/",
     "height": 384
    },
    "id": "HLNQ5Rk5NQwS",
    "outputId": "3ea5499b-ab40-43e9-993f-326c4bf65005"
   },
   "outputs": [
    {
     "name": "stdout",
     "output_type": "stream",
     "text": [
      "predict: \"B\"\n",
      "label: \"B\"\n",
      "Correct:  True\n"
     ]
    },
    {
     "data": {
      "text/html": [
       "<div>\n",
       "<style scoped>\n",
       "    .dataframe tbody tr th:only-of-type {\n",
       "        vertical-align: middle;\n",
       "    }\n",
       "\n",
       "    .dataframe tbody tr th {\n",
       "        vertical-align: top;\n",
       "    }\n",
       "\n",
       "    .dataframe thead th {\n",
       "        text-align: right;\n",
       "    }\n",
       "</style>\n",
       "<table border=\"1\" class=\"dataframe\">\n",
       "  <thead>\n",
       "    <tr style=\"text-align: right;\">\n",
       "      <th></th>\n",
       "      <th>Label</th>\n",
       "      <th>Score</th>\n",
       "    </tr>\n",
       "  </thead>\n",
       "  <tbody>\n",
       "    <tr>\n",
       "      <th>0</th>\n",
       "      <td>A</td>\n",
       "      <td>-3288.018454</td>\n",
       "    </tr>\n",
       "    <tr>\n",
       "      <th>1</th>\n",
       "      <td>ban</td>\n",
       "      <td>-3192.853340</td>\n",
       "    </tr>\n",
       "    <tr>\n",
       "      <th>2</th>\n",
       "      <td>B</td>\n",
       "      <td>-2407.188014</td>\n",
       "    </tr>\n",
       "    <tr>\n",
       "      <th>3</th>\n",
       "      <td>len</td>\n",
       "      <td>-2629.278382</td>\n",
       "    </tr>\n",
       "    <tr>\n",
       "      <th>4</th>\n",
       "      <td>nhay</td>\n",
       "      <td>-2778.181930</td>\n",
       "    </tr>\n",
       "    <tr>\n",
       "      <th>5</th>\n",
       "      <td>phai</td>\n",
       "      <td>-3102.277625</td>\n",
       "    </tr>\n",
       "    <tr>\n",
       "      <th>6</th>\n",
       "      <td>sil</td>\n",
       "      <td>-4793.824000</td>\n",
       "    </tr>\n",
       "    <tr>\n",
       "      <th>7</th>\n",
       "      <td>trai</td>\n",
       "      <td>-2970.131442</td>\n",
       "    </tr>\n",
       "    <tr>\n",
       "      <th>8</th>\n",
       "      <td>xuong</td>\n",
       "      <td>-3407.157869</td>\n",
       "    </tr>\n",
       "  </tbody>\n",
       "</table>\n",
       "</div>"
      ],
      "text/plain": [
       "   Label        Score\n",
       "0      A -3288.018454\n",
       "1    ban -3192.853340\n",
       "2      B -2407.188014\n",
       "3    len -2629.278382\n",
       "4   nhay -2778.181930\n",
       "5   phai -3102.277625\n",
       "6    sil -4793.824000\n",
       "7   trai -2970.131442\n",
       "8  xuong -3407.157869"
      ]
     },
     "execution_count": 28,
     "metadata": {},
     "output_type": "execute_result"
    }
   ],
   "source": [
    "test_number = 0\n",
    "test_label = 'B'\n",
    "\n",
    "mfcc = testDataSet[test_label][test_number]\n",
    "scores = [hmmModels[label].score(mfcc) for label in testDataSet.keys()]\n",
    "pred = dict2.get(np.argmax(scores))\n",
    "print('predict: \\\"{}\\\"'.format(pred))\n",
    "print('label: \\\"{}\\\"'.format(test_label))\n",
    "print(\"Correct:  {}\".format(pred == test_label))\n",
    "\n",
    "df = pd.DataFrame()\n",
    "df['Label'] = dict2.values()\n",
    "df['Score'] = scores\n",
    "df"
   ]
  },
  {
   "cell_type": "code",
   "execution_count": 29,
   "metadata": {
    "colab": {
     "base_uri": "https://localhost:8080/"
    },
    "id": "KlO0stBOzKug",
    "outputId": "5bacbc48-2ded-48e1-e55a-a9f5d0bea22c"
   },
   "outputs": [
    {
     "name": "stdout",
     "output_type": "stream",
     "text": [
      "Accuracy Score: 0.995475113122172\n"
     ]
    }
   ],
   "source": [
    "y_true = []\n",
    "y_preds = []\n",
    "\n",
    "for label in testDataSet.keys():\n",
    "    for mfcc in testDataSet[label]:\n",
    "        scores = [hmmModels[label].score(mfcc) for label in testDataSet.keys()]\n",
    "        preds = np.argmax(scores)\n",
    "        y_true.append(label)\n",
    "        y_preds.append(dict2.get(preds))\n",
    "\n",
    "accuracy = accuracy_score(y_true, y_preds)\n",
    "print(\"Accuracy Score: {}\".format(accuracy))"
   ]
  },
  {
   "cell_type": "code",
   "execution_count": 30,
   "metadata": {
    "colab": {
     "base_uri": "https://localhost:8080/"
    },
    "id": "EjO8WxkaERSQ",
    "outputId": "f586fa1f-0690-4b07-9344-8191a1c014d5"
   },
   "outputs": [
    {
     "data": {
      "text/plain": [
       "array([1.        , 1.        , 1.        , 1.        , 0.96153846,\n",
       "       1.        , 1.        , 1.        , 1.        ])"
      ]
     },
     "execution_count": 30,
     "metadata": {},
     "output_type": "execute_result"
    }
   ],
   "source": [
    "from sklearn.metrics import confusion_matrix\n",
    "\n",
    "matrix = confusion_matrix(y_true, y_preds)\n",
    "matrix.diagonal()/matrix.sum(axis=1)"
   ]
  }
 ],
 "metadata": {
  "colab": {
   "collapsed_sections": [
    "Qgwomky48Jua"
   ],
   "name": "Speech.ipynb",
   "provenance": []
  },
  "kernelspec": {
   "display_name": "Python 3 (ipykernel)",
   "language": "python",
   "name": "python3"
  },
  "language_info": {
   "codemirror_mode": {
    "name": "ipython",
    "version": 3
   },
   "file_extension": ".py",
   "mimetype": "text/x-python",
   "name": "python",
   "nbconvert_exporter": "python",
   "pygments_lexer": "ipython3",
   "version": "3.8.11"
  }
 },
 "nbformat": 4,
 "nbformat_minor": 1
}
